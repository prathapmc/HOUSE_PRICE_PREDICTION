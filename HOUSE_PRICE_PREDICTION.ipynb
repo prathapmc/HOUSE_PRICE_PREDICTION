{
  "nbformat": 4,
  "nbformat_minor": 0,
  "metadata": {
    "colab": {
      "name": "HOUSE PRICE 1.0",
      "provenance": [],
      "collapsed_sections": []
    },
    "kernelspec": {
      "name": "python3",
      "display_name": "Python 3"
    },
    "language_info": {
      "name": "python"
    }
  },
  "cells": [
    {
      "cell_type": "code",
      "execution_count": null,
      "metadata": {
        "id": "zkh6TvhTHtkv"
      },
      "outputs": [],
      "source": [
        "import pandas as pd\n",
        "import numpy as np\n",
        "import sklearn\n",
        "from sklearn import linear_model\n",
        "from sklearn.utils import shuffle\n",
        "import matplotlib.pyplot as plot\n",
        "import pickle\n",
        "from matplotlib import style\n"
      ]
    },
    {
      "cell_type": "code",
      "source": [
        "data=pd.read_csv('/content/drive/MyDrive/housing.csv')\n",
        "data"
      ],
      "metadata": {
        "id": "oDGOjIrxH57Q"
      },
      "execution_count": null,
      "outputs": []
    },
    {
      "cell_type": "code",
      "source": [
        "data=data.dropna()"
      ],
      "metadata": {
        "id": "55QRRS79IKFY"
      },
      "execution_count": null,
      "outputs": []
    },
    {
      "cell_type": "code",
      "source": [
        "u=data.ocean_proximity.unique()\n",
        "u"
      ],
      "metadata": {
        "id": "yqpdtXFfIPSq"
      },
      "execution_count": null,
      "outputs": []
    },
    {
      "cell_type": "code",
      "source": [
        "data['ocean_proximity']=data['ocean_proximity'].replace(['INLAND','NEAR BAY','<1H OCEAN','NEAR OCEAN','ISLAND'],[1,2,3,4,5])\n",
        "data"
      ],
      "metadata": {
        "id": "MzR4-TddIPgb"
      },
      "execution_count": null,
      "outputs": []
    },
    {
      "cell_type": "code",
      "source": [
        "data=data[['housing_median_age','total_rooms','total_bedrooms','population','households','median_income','ocean_proximity','median_house_value']]\n",
        "data"
      ],
      "metadata": {
        "id": "ojBIE_Z3IVjO"
      },
      "execution_count": null,
      "outputs": []
    },
    {
      "cell_type": "code",
      "source": [
        "predict='median_house_value'"
      ],
      "metadata": {
        "id": "5ls06X5aIVlG"
      },
      "execution_count": null,
      "outputs": []
    },
    {
      "cell_type": "code",
      "source": [
        "x=np.array(data.drop([predict],1))\n",
        "y=np.array(data[predict])\n",
        "x_train,x_test,y_train,y_test=sklearn.model_selection.train_test_split(x,y,test_size=0.1)"
      ],
      "metadata": {
        "id": "Af_IQjKiIVpG"
      },
      "execution_count": null,
      "outputs": []
    },
    {
      "cell_type": "code",
      "source": [
        "best=0"
      ],
      "metadata": {
        "id": "3cnH8FdmIVsJ"
      },
      "execution_count": null,
      "outputs": []
    },
    {
      "cell_type": "code",
      "source": [
        "for _ in range(100):\n",
        "    \n",
        "    x_train,x_test,y_train,y_test=sklearn.model_selection.train_test_split(x,y,test_size=0.1) \n",
        "    linear=linear_model.LinearRegression()\n",
        "    linear.fit(x_train,y_train) \n",
        "    acc=linear.score(x_test,y_test) \n",
        "    print(acc)\n",
        "    if acc>best:\n",
        "        with open(\"housepricemodel.pickle\",'wb') as f:\n",
        "            pickle.dump(linear,f)"
      ],
      "metadata": {
        "id": "yM1nrz_YIPjO"
      },
      "execution_count": null,
      "outputs": []
    },
    {
      "cell_type": "code",
      "source": [
        "pickle_in=open(\"housepricemodel.pickle\",'rb')\n",
        "linear=pickle.load(pickle_in)"
      ],
      "metadata": {
        "id": "FTMX-NipI1Ij"
      },
      "execution_count": null,
      "outputs": []
    },
    {
      "cell_type": "code",
      "source": [
        "predictions=linear.predict(x_test)\n",
        "for x in range(len(predictions)):\n",
        "    print(predictions[x],x_test[x],y_test[x])"
      ],
      "metadata": {
        "id": "QC2_fHC8I1La"
      },
      "execution_count": null,
      "outputs": []
    },
    {
      "cell_type": "code",
      "source": [
        "p=\"housing_median_age\"\n",
        "style.use(\"ggplot\")\n",
        "plot.scatter(data[p],data['median_house_value'])\n",
        "plot.xlabel(p)\n",
        "plot.ylabel('house price')\n",
        "plot.show()"
      ],
      "metadata": {
        "id": "6WFb51gRI1ak"
      },
      "execution_count": null,
      "outputs": []
    },
    {
      "cell_type": "code",
      "source": [
        "p=\"total_rooms\"\n",
        "style.use(\"ggplot\")\n",
        "plot.scatter(data[p],data['median_house_value'])\n",
        "plot.xlabel(p)\n",
        "plot.ylabel('house price')\n",
        "plot.show()"
      ],
      "metadata": {
        "id": "hz_NFHaWI1ds"
      },
      "execution_count": null,
      "outputs": []
    },
    {
      "cell_type": "code",
      "source": [
        "p=\"total_bedrooms\"\n",
        "style.use(\"ggplot\")\n",
        "plot.scatter(data[p],data['median_house_value'])\n",
        "plot.xlabel(p)\n",
        "plot.ylabel('house price')\n",
        "plot.show()"
      ],
      "metadata": {
        "id": "B7yTbAANJEfz"
      },
      "execution_count": null,
      "outputs": []
    },
    {
      "cell_type": "code",
      "source": [
        "p=\"population\"\n",
        "style.use(\"ggplot\")\n",
        "plot.scatter(data[p],data['median_house_value'])\n",
        "plot.xlabel(p)\n",
        "plot.ylabel('house price')\n",
        "plot.show()"
      ],
      "metadata": {
        "id": "nIfeAg-nJEuU"
      },
      "execution_count": null,
      "outputs": []
    },
    {
      "cell_type": "code",
      "source": [
        "p=\"households\"\n",
        "style.use(\"ggplot\")\n",
        "plot.scatter(data[p],data['median_house_value'])\n",
        "plot.xlabel(p)\n",
        "plot.ylabel('house price')\n",
        "plot.show()"
      ],
      "metadata": {
        "id": "zFceQ_onJE7F"
      },
      "execution_count": null,
      "outputs": []
    },
    {
      "cell_type": "code",
      "source": [
        "p=\"ocean_proximity\"\n",
        "style.use(\"ggplot\")\n",
        "plot.scatter(data[p],data['median_house_value'])\n",
        "plot.xlabel(p)\n",
        "plot.ylabel('house price')\n",
        "plot.show()"
      ],
      "metadata": {
        "id": "lDmg9viQJQeO",
        "colab": {
          "base_uri": "https://localhost:8080/",
          "height": 282
        },
        "outputId": "ba1be0bb-93aa-42c1-b12d-d3fd377ee868"
      },
      "execution_count": null,
      "outputs": [
        {
          "output_type": "display_data",
          "data": {
            "text/plain": [
              "<Figure size 432x288 with 1 Axes>"
            ],
            "image/png": "[encoded data removed]"
          },
          "metadata": {}
        }
      ]
    }
  ]
}